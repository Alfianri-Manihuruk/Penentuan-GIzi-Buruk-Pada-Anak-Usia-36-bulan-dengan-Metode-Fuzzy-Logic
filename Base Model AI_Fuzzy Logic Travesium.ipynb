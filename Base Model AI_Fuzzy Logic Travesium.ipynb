{
 "cells": [
  {
   "cell_type": "markdown",
   "id": "80b98b59",
   "metadata": {},
   "source": [
    "# **Tim Based Model AI**\n",
    "**Supervior** \n",
    " 1. Ibu Amalya Citra\n",
    " \n",
    "**Asisten**\n",
    " 1. Alfianri Manihuruk\n",
    " 2. Annesa Azizi\n"
   ]
  },
  {
   "cell_type": "code",
   "execution_count": 47,
   "id": "89eee5f9",
   "metadata": {},
   "outputs": [],
   "source": [
    "#library yang digunakan\n",
    "import numpy as np\n",
    "import matplotlib.pyplot as plt\n",
    "import pandas as pd\n",
    "import skfuzzy as fuzz\n",
    "import pandas as pd"
   ]
  },
  {
   "cell_type": "code",
   "execution_count": 75,
   "id": "3ba63521",
   "metadata": {},
   "outputs": [
    {
     "data": {
      "text/html": [
       "<div>\n",
       "<style scoped>\n",
       "    .dataframe tbody tr th:only-of-type {\n",
       "        vertical-align: middle;\n",
       "    }\n",
       "\n",
       "    .dataframe tbody tr th {\n",
       "        vertical-align: top;\n",
       "    }\n",
       "\n",
       "    .dataframe thead th {\n",
       "        text-align: right;\n",
       "    }\n",
       "</style>\n",
       "<table border=\"1\" class=\"dataframe\">\n",
       "  <thead>\n",
       "    <tr style=\"text-align: right;\">\n",
       "      <th></th>\n",
       "      <th>TOTAL</th>\n",
       "      <th>MEAN</th>\n",
       "      <th>RANGKING</th>\n",
       "      <th>SELISIH_SEM</th>\n",
       "    </tr>\n",
       "  </thead>\n",
       "  <tbody>\n",
       "    <tr>\n",
       "      <th>0</th>\n",
       "      <td>6664</td>\n",
       "      <td>86.545455</td>\n",
       "      <td>18</td>\n",
       "      <td>2.875000</td>\n",
       "    </tr>\n",
       "    <tr>\n",
       "      <th>1</th>\n",
       "      <td>6676</td>\n",
       "      <td>86.701299</td>\n",
       "      <td>16</td>\n",
       "      <td>2.583333</td>\n",
       "    </tr>\n",
       "    <tr>\n",
       "      <th>2</th>\n",
       "      <td>6625</td>\n",
       "      <td>86.038961</td>\n",
       "      <td>23</td>\n",
       "      <td>2.583333</td>\n",
       "    </tr>\n",
       "    <tr>\n",
       "      <th>3</th>\n",
       "      <td>6596</td>\n",
       "      <td>85.662338</td>\n",
       "      <td>28</td>\n",
       "      <td>3.458333</td>\n",
       "    </tr>\n",
       "    <tr>\n",
       "      <th>4</th>\n",
       "      <td>6711</td>\n",
       "      <td>87.155844</td>\n",
       "      <td>11</td>\n",
       "      <td>3.458333</td>\n",
       "    </tr>\n",
       "  </tbody>\n",
       "</table>\n",
       "</div>"
      ],
      "text/plain": [
       "   TOTAL       MEAN  RANGKING  SELISIH_SEM\n",
       "0   6664  86.545455        18     2.875000\n",
       "1   6676  86.701299        16     2.583333\n",
       "2   6625  86.038961        23     2.583333\n",
       "3   6596  85.662338        28     3.458333\n",
       "4   6711  87.155844        11     3.458333"
      ]
     },
     "execution_count": 75,
     "metadata": {},
     "output_type": "execute_result"
    }
   ],
   "source": [
    "df= pd.read_excel(\"data_set.xlsx\", sheet_name=\"Use\")\n",
    "df.head()"
   ]
  },
  {
   "cell_type": "code",
   "execution_count": 114,
   "id": "140945f0",
   "metadata": {},
   "outputs": [],
   "source": [
    "#1. fuzzification\n",
    "def rangesub (low, high, step):\n",
    "    subjektif = np.arange(low, high, step)\n",
    "    return subjektif\n",
    "\n",
    "def Algoritmafuz(rule, range_sub, title):\n",
    "    lo = fuzz.trapmf(range_sub, rule[0])\n",
    "    mi = fuzz.trapmf(range_sub, rule[1])\n",
    "    hi = fuzz.trapmf(range_sub, rule[2])\n",
    "    \n",
    "    fig, ax =plt.subplots(nrows=1, figsize=(7,3))\n",
    "    ax.plot(range_sub, lo, 'b', linewidth = 1.5, label= 'cukup')\n",
    "    ax.plot(range_sub, mi, 'g', linewidth = 1.5, label= 'baik')\n",
    "    ax.plot(range_sub, hi, 'r', linewidth = 1.5, label= 'sangat baik')\n",
    "    \n",
    "    ax.set_title(title)\n",
    "    ax.legend()\n",
    "    \n",
    "    ax.spines['top'].set_visible(False)\n",
    "    ax.spines['right'].set_visible(False)\n",
    "    ax.get_xaxis().tick_bottom()\n",
    "    ax.get_yaxis().tick_left()\n",
    "    \n",
    "    plt.tight_layout()\n",
    "    plt.show()\n",
    "    \n",
    "    return lo, mi, hi\n",
    "\n",
    "def Algoritmafuz2(rule, range_sub, title):\n",
    "    lo = fuzz.trapmf(range_sub, rule[0])\n",
    "    hi = fuzz.trapmf(range_sub, rule[1])\n",
    "   \n",
    "    fig, ax =plt.subplots(nrows=1, figsize=(6,3))\n",
    "    ax.plot(range_sub, lo, 'y', linewidth = 1.5, label= 'cukup')\n",
    "    ax.plot(range_sub, hi, 'b', linewidth = 1.5, label= 'baik')\n",
    "    \n",
    "    ax.set_title(title)\n",
    "    ax.legend()\n",
    "    \n",
    "    ax.spines['top'].set_visible(False)\n",
    "    ax.spines['right'].set_visible(False)\n",
    "    ax.get_xaxis().tick_bottom()\n",
    "    ax.get_yaxis().tick_left()\n",
    "    \n",
    "    plt.tight_layout()\n",
    "    plt.show()\n",
    "    \n",
    "    return lo, hi\n",
    "\n",
    "def Algoritmafuz3(rule, range_sub, title):\n",
    "    lo = fuzz.trapmf(range_sub, rule[0])\n",
    "    mi = fuzz.trapmf(range_sub, rule[1])\n",
    "    hi = fuzz.trapmf(range_sub, rule[2])\n",
    "    \n",
    "    fig, ax =plt.subplots(nrows=1, figsize=(7,3))\n",
    "    ax.plot(range_sub, lo, 'b', linewidth = 1.5, label= 'sangat baik')\n",
    "    ax.plot(range_sub, mi, 'g', linewidth = 1.5, label= 'baik')\n",
    "    ax.plot(range_sub, hi, 'r', linewidth = 1.5, label= 'cukup')\n",
    "    \n",
    "    ax.set_title(title)\n",
    "    ax.legend()\n",
    "    \n",
    "    ax.spines['top'].set_visible(False)\n",
    "    ax.spines['right'].set_visible(False)\n",
    "    ax.get_xaxis().tick_bottom()\n",
    "    ax.get_yaxis().tick_left()\n",
    "    \n",
    "    plt.tight_layout()\n",
    "    plt.show()\n",
    "    \n",
    "    return lo, mi, hi"
   ]
  },
  {
   "cell_type": "markdown",
   "id": "c1556149",
   "metadata": {},
   "source": [
    "## Fungsi Status keanggotaan"
   ]
  },
  {
   "cell_type": "code",
   "execution_count": 115,
   "id": "531643cd",
   "metadata": {},
   "outputs": [],
   "source": [
    "## Fungsi Keanggotaan\n",
    "#1. total nilai keseluruhan\n",
    "xnilai_total = rangesub(6000, 8500, 1)\n",
    "rnilai_total = np.array([\n",
    "    [6000, 6200, 6523, 6600],\n",
    "    [6523, 6647, 6770.48, 6800],\n",
    "    [6770.48, 7000, 8200, 8500]  \n",
    "])\n",
    "\n",
    "#2. rangking total nilai keseluruhan\n",
    "xranking = rangesub(1, 170, 1)\n",
    "rranking = np.array([\n",
    "    [1, 10, 20, 25],\n",
    "    [15, 30, 50, 75],\n",
    "    [50, 100, 150, 170]\n",
    "])\n",
    "\n",
    "#3. rata-rata nilai keseluruhan\n",
    "xmean = rangesub(60, 100, 1)\n",
    "rmean = np.array([\n",
    "    [60, 75, 80, 85],\n",
    "    [80, 85, 90, 100]\n",
    "])\n",
    "\n",
    "#4. selisih nilai persemester\n",
    "xsel = rangesub(-5, 10, 0.1)\n",
    "rsel = np.array([\n",
    "    [-5, -2, 1, 5],\n",
    "    [4, 7, 9, 10]\n",
    "])"
   ]
  },
  {
   "cell_type": "code",
   "execution_count": 116,
   "id": "b213864b",
   "metadata": {},
   "outputs": [
    {
     "data": {
      "image/png": "[encoded data removed]",
      "text/plain": [
       "<Figure size 700x300 with 1 Axes>"
      ]
     },
     "metadata": {},
     "output_type": "display_data"
    },
    {
     "data": {
      "image/png": "[encoded data removed]",
      "text/plain": [
       "<Figure size 700x300 with 1 Axes>"
      ]
     },
     "metadata": {},
     "output_type": "display_data"
    },
    {
     "data": {
      "image/png": "[encoded data removed]",
      "text/plain": [
       "<Figure size 600x300 with 1 Axes>"
      ]
     },
     "metadata": {},
     "output_type": "display_data"
    },
    {
     "data": {
      "image/png": "[encoded data removed]",
      "text/plain": [
       "<Figure size 600x300 with 1 Axes>"
      ]
     },
     "metadata": {},
     "output_type": "display_data"
    }
   ],
   "source": [
    "lo_nilai, mi_nilai, hi_nilai = Algoritmafuz(rnilai_total, xnilai_total, 'Total Nilai Keseluruhan')\n",
    "lo_ranking, mi_ranking, hi_ranking = Algoritmafuz3(rranking, xranking, 'Ranking Nilai Keseluruhan')\n",
    "lo_mean, hi_mean = Algoritmafuz2(rmean, xmean, 'rata-rata Nilai Keseluruhan')\n",
    "lo_sel, hi_sel = Algoritmafuz2(rsel, xsel, 'selisih nilai tiap semester')"
   ]
  },
  {
   "cell_type": "markdown",
   "id": "b00b7443",
   "metadata": {},
   "source": [
    "## Fungsi keanggotaan"
   ]
  },
  {
   "cell_type": "code",
   "execution_count": 118,
   "id": "fc8ebd25",
   "metadata": {},
   "outputs": [],
   "source": [
    "def FungKeanggotaan (range_sub, lo, mi, hi, nilai):\n",
    "    lo = fuzz.interp_membership(range_sub, lo, nilai)\n",
    "    mi = fuzz.interp_membership(range_sub, mi, nilai)  \n",
    "    hi = fuzz.interp_membership(range_sub, hi, nilai) \n",
    "\n",
    "    return lo, mi, hi\n",
    "\n",
    "def FungKeanggotaan2 (range_sub, lo, hi, nilai):\n",
    "    lo = fuzz.interp_membership(range_sub, lo, nilai) \n",
    "    hi = fuzz.interp_membership(range_sub, hi, nilai) \n",
    "\n",
    "    return lo, hi"
   ]
  },
  {
   "cell_type": "markdown",
   "id": "a302c69f",
   "metadata": {},
   "source": [
    "## Fungsi Status keanggotaan"
   ]
  },
  {
   "cell_type": "code",
   "execution_count": 119,
   "id": "5677d226",
   "metadata": {},
   "outputs": [],
   "source": [
    "def Status(keanggotaan):\n",
    "    status = \"\"\n",
    "    if keanggotaan[0] > keanggotaan[1] and keanggotaan[0] > keanggotaan[2]:\n",
    "        status = \"cukup\"\n",
    "    elif keanggotaan[1] > keanggotaan[0] and keanggotaan[1] > keanggotaan[2]:\n",
    "        status = \"baik\"\n",
    "    elif keanggotaan[2] > keanggotaan[0] and keanggotaan[2] > keanggotaan[1]:\n",
    "        status = \"sangat baik\"\n",
    "\n",
    "    return status\n",
    "\n",
    "def Status2(keanggotaan):\n",
    "    status = \"\"\n",
    "    if keanggotaan[0] > keanggotaan[1]:\n",
    "        status = \"cukup\"\n",
    "    elif keanggotaan[1] > keanggotaan[0]:\n",
    "        status = \"baik\"\n",
    "    return status\n",
    "\n",
    "def Status3(keanggotaan):\n",
    "    status = \"\"\n",
    "    if keanggotaan[0] > keanggotaan[1] and keanggotaan[0] > keanggotaan[2]:\n",
    "        status = \"sangat baik\"\n",
    "    elif keanggotaan[1] > keanggotaan[0] and keanggotaan[1] > keanggotaan[2]:\n",
    "        status = \"baik\"\n",
    "    elif keanggotaan[2] > keanggotaan[0] and keanggotaan[2] > keanggotaan[1]:\n",
    "        status = \"cukup\"\n",
    "\n",
    "    return status"
   ]
  },
  {
   "cell_type": "markdown",
   "id": "8ca18802",
   "metadata": {},
   "source": [
    "### 1. fungsi keanggotan nilai total "
   ]
  },
  {
   "cell_type": "code",
   "execution_count": 71,
   "id": "ad25b2c1",
   "metadata": {},
   "outputs": [
    {
     "name": "stdout",
     "output_type": "stream",
     "text": [
      "nilai total keselurahan mapel : (array([0.        , 0.        , 0.        , 0.05194805, 0.        ,\n",
      "       0.28571429, 0.        , 0.        , 0.        , 0.        ,\n",
      "       0.        , 0.        , 0.        , 0.        , 0.        ,\n",
      "       0.85714286, 0.        , 0.        , 0.71428571, 1.        ,\n",
      "       0.        , 0.94805195, 0.        , 0.        , 0.        ,\n",
      "       0.        , 0.        , 0.        , 0.        , 0.        ,\n",
      "       0.        , 0.        , 0.        , 0.        , 0.        ,\n",
      "       0.        , 0.        , 0.        , 0.        , 0.        ,\n",
      "       0.        , 0.        , 0.        , 0.        , 0.        ,\n",
      "       0.        , 0.        , 0.        , 0.        , 0.        ,\n",
      "       0.        , 0.        , 0.        , 0.        , 0.        ,\n",
      "       0.        , 0.        , 0.        , 0.        , 0.        ,\n",
      "       0.        , 0.        , 0.        , 0.        , 0.        ,\n",
      "       0.        , 0.        , 0.        , 0.        , 0.        ,\n",
      "       0.        , 0.        , 0.        , 0.        , 0.        ,\n",
      "       0.        , 0.        ]), array([1.        , 1.        , 0.82258065, 0.58870968, 1.        ,\n",
      "       0.44354839, 0.83064516, 1.        , 1.        , 0.67750678,\n",
      "       0.83870968, 1.        , 0.54200542, 0.        , 1.        ,\n",
      "       0.08870968, 1.        , 0.78225806, 0.17741935, 0.        ,\n",
      "       0.        , 0.03225806, 0.        , 0.        , 0.        ,\n",
      "       0.        , 0.        , 0.        , 0.        , 0.        ,\n",
      "       0.        , 0.        , 0.        , 0.        , 0.        ,\n",
      "       0.        , 0.        , 0.        , 0.        , 1.        ,\n",
      "       1.        , 1.        , 1.        , 0.        , 0.        ,\n",
      "       0.        , 0.        , 1.        , 1.        , 0.        ,\n",
      "       0.        , 1.        , 1.        , 1.        , 1.        ,\n",
      "       0.10162602, 0.64363144, 1.        , 1.        , 0.        ,\n",
      "       0.69354839, 1.        , 1.        , 1.        , 0.        ,\n",
      "       1.        , 1.        , 1.        , 0.81300813, 1.        ,\n",
      "       0.40650407, 0.        , 1.        , 1.        , 0.30487805,\n",
      "       1.        , 1.        ]), array([0.        , 0.        , 0.        , 0.        , 0.        ,\n",
      "       0.        , 0.        , 0.        , 0.        , 0.04147787,\n",
      "       0.        , 0.        , 0.05890554, 0.15040084, 0.        ,\n",
      "       0.        , 0.        , 0.        , 0.        , 0.        ,\n",
      "       0.22011154, 0.        , 0.45102823, 0.77779714, 0.82572325,\n",
      "       1.        , 0.65580342, 0.60787731, 1.        , 0.48588358,\n",
      "       0.62094807, 0.73858487, 0.45974207, 1.        , 0.54688045,\n",
      "       0.63401882, 0.82572325, 0.70372952, 1.        , 0.        ,\n",
      "       0.        , 0.        , 0.        , 0.42924364, 0.66016033,\n",
      "       0.27675148, 0.49459742, 0.        , 0.        , 0.141687  ,\n",
      "       0.41181596, 0.        , 0.        , 0.        , 0.        ,\n",
      "       0.11554549, 0.04583479, 0.        , 0.        , 0.41181596,\n",
      "       0.        , 0.        , 0.        , 0.        , 0.46845591,\n",
      "       0.        , 0.        , 0.        , 0.02405019, 0.        ,\n",
      "       0.07633322, 0.15475776, 0.        , 0.        , 0.08940397,\n",
      "       0.        , 0.        ]))\n"
     ]
    }
   ],
   "source": [
    "#1. keanggotan nilai total keseluruhan\n",
    "nil_tot = df[\"TOTAL\"]\n",
    "nilai_total= FungKeanggotaan(xnilai_total, lo_nilai, mi_nilai, hi_nilai, nil_tot)\n",
    "print(\"nilai total keselurahan mapel :\", nilai_total)"
   ]
  },
  {
   "cell_type": "markdown",
   "id": "0ade1e51",
   "metadata": {},
   "source": [
    "### 2. fungsi keanggotan nilai ranking"
   ]
  },
  {
   "cell_type": "code",
   "execution_count": 77,
   "id": "6cb10476",
   "metadata": {},
   "outputs": [
    {
     "name": "stdout",
     "output_type": "stream",
     "text": [
      "ranking nilai :  (array([1.        , 1.        , 0.4       , 0.        , 1.        ,\n",
      "       0.        , 0.6       , 1.        , 0.88888889, 0.77777778,\n",
      "       0.8       , 1.        , 0.66666667, 0.33333333, 1.        ,\n",
      "       0.        , 1.        , 0.        , 0.        , 0.        ,\n",
      "       0.22222222, 0.        , 0.        , 1.        , 0.66666667,\n",
      "       0.33333333, 1.        , 1.        , 0.        , 0.        ,\n",
      "       1.        , 1.        , 0.        , 0.22222222, 0.6       ,\n",
      "       1.        , 0.77777778, 1.        , 0.11111111, 0.        ,\n",
      "       0.        , 0.        , 0.        , 0.        , 1.        ,\n",
      "       0.        , 0.        , 0.        , 0.        , 0.        ,\n",
      "       0.        , 0.        , 0.        , 0.        , 0.        ,\n",
      "       0.        , 0.        , 0.        , 0.        , 0.        ,\n",
      "       0.        , 0.        , 0.        , 0.        , 0.        ,\n",
      "       0.        , 0.        , 0.        , 0.        , 0.        ,\n",
      "       0.        , 0.        , 0.        , 0.        , 0.        ,\n",
      "       0.        , 0.        ]), array([0.2       , 0.06666667, 0.53333333, 0.86666667, 0.        ,\n",
      "       1.        , 0.46666667, 0.13333333, 0.        , 0.        ,\n",
      "       0.4       , 0.        , 0.        , 0.        , 0.        ,\n",
      "       1.        , 0.        , 0.73333333, 1.        , 1.        ,\n",
      "       0.        , 1.        , 0.        , 0.        , 0.        ,\n",
      "       0.        , 0.        , 0.2       , 0.        , 0.8       ,\n",
      "       0.13333333, 0.        , 1.        , 0.        , 0.46666667,\n",
      "       0.06666667, 0.        , 0.        , 0.        , 0.04      ,\n",
      "       0.        , 0.        , 0.        , 1.        , 0.        ,\n",
      "       1.        , 0.66666667, 0.        , 0.        , 0.8       ,\n",
      "       1.        , 0.12      , 0.        , 0.        , 0.        ,\n",
      "       0.72      , 0.32      , 0.        , 0.        , 1.        ,\n",
      "       0.        , 0.        , 0.        , 0.        , 1.        ,\n",
      "       0.        , 0.        , 0.        , 0.2       , 0.        ,\n",
      "       0.48      , 0.88      , 0.        , 0.        , 0.64      ,\n",
      "       0.        , 0.        ]), array([0.  , 0.  , 0.  , 0.  , 0.  , 0.  , 0.  , 0.  , 0.  , 0.  , 0.  ,\n",
      "       0.  , 0.  , 0.  , 0.  , 0.  , 0.  , 0.  , 0.  , 0.  , 0.  , 0.  ,\n",
      "       0.  , 0.  , 0.  , 0.  , 0.  , 0.  , 0.  , 0.  , 0.  , 0.  , 0.  ,\n",
      "       0.  , 0.  , 0.  , 0.  , 0.  , 0.  , 0.48, 0.8 , 0.72, 0.74, 0.  ,\n",
      "       0.  , 0.  , 0.  , 1.  , 1.  , 0.1 , 0.  , 0.44, 0.7 , 1.  , 1.  ,\n",
      "       0.14, 0.34, 0.56, 0.78, 0.  , 0.  , 1.  , 1.  , 0.5 , 0.  , 1.  ,\n",
      "       1.  , 1.  , 0.4 , 1.  , 0.26, 0.06, 1.  , 1.  , 0.18, 0.96, 1.  ]))\n"
     ]
    }
   ],
   "source": [
    "rank_nil = df[\"RANGKING\"]\n",
    "rank_nilai = FungKeanggotaan(xranking, lo_ranking, mi_ranking, hi_ranking, rank_nil)\n",
    "print(\"ranking nilai : \", rank_nilai)"
   ]
  },
  {
   "cell_type": "markdown",
   "id": "6368288e",
   "metadata": {},
   "source": [
    "### 3. fungsi keanggotan nilai rata-rata "
   ]
  },
  {
   "cell_type": "code",
   "execution_count": 78,
   "id": "9ad05cfd",
   "metadata": {},
   "outputs": [
    {
     "name": "stdout",
     "output_type": "stream",
     "text": [
      "rata-rata nilai :  (array([0.        , 0.        , 0.        , 0.        , 0.        ,\n",
      "       0.        , 0.        , 0.        , 0.        , 0.        ,\n",
      "       0.        , 0.        , 0.        , 0.        , 0.        ,\n",
      "       0.02857143, 0.        , 0.        , 0.        , 0.05714286,\n",
      "       0.        , 0.04675325, 0.        , 0.        , 0.        ,\n",
      "       0.        , 0.        , 0.        , 0.        , 0.        ,\n",
      "       0.        , 0.        , 0.        , 0.        , 0.        ,\n",
      "       0.        , 0.        , 0.        , 0.        , 0.        ,\n",
      "       0.        , 0.        , 0.        , 0.        , 0.        ,\n",
      "       0.        , 0.        , 0.        , 0.        , 0.        ,\n",
      "       0.        , 0.        , 0.        , 0.        , 0.        ,\n",
      "       0.        , 0.        , 0.        , 0.        , 0.        ,\n",
      "       0.        , 0.        , 0.        , 0.        , 0.        ,\n",
      "       0.        , 0.        , 0.        , 0.        , 0.        ,\n",
      "       0.        , 0.        , 0.        , 0.        , 0.        ,\n",
      "       0.        , 0.        ]), array([1.        , 1.        , 1.        , 1.        , 1.        ,\n",
      "       1.        , 1.        , 1.        , 1.        , 1.        ,\n",
      "       1.        , 1.        , 1.        , 1.        , 1.        ,\n",
      "       0.97142857, 1.        , 1.        , 1.        , 0.94285714,\n",
      "       1.        , 0.95324675, 1.        , 0.97532468, 0.96103896,\n",
      "       0.9025974 , 1.        , 1.        , 0.78051948, 1.        ,\n",
      "       1.        , 0.98701299, 1.        , 0.86233766, 1.        ,\n",
      "       1.        , 0.96103896, 0.9974026 , 0.83376623, 1.        ,\n",
      "       1.        , 1.        , 1.        , 1.        , 1.        ,\n",
      "       1.        , 1.        , 1.        , 1.        , 1.        ,\n",
      "       1.        , 1.        , 1.        , 1.        , 1.        ,\n",
      "       1.        , 1.        , 1.        , 1.        , 1.        ,\n",
      "       1.        , 1.        , 1.        , 1.        , 1.        ,\n",
      "       1.        , 1.        , 1.        , 1.        , 1.        ,\n",
      "       1.        , 1.        , 1.        , 1.        , 1.        ,\n",
      "       1.        , 1.        ]))\n"
     ]
    }
   ],
   "source": [
    "mean_nil = df[\"MEAN\"]\n",
    "mean_nilai = FungKeanggotaan2(xmean, lo_mean, hi_mean, mean_nil)\n",
    "print(\"rata-rata nilai : \", mean_nilai)"
   ]
  },
  {
   "cell_type": "markdown",
   "id": "8a13eb15",
   "metadata": {},
   "source": [
    "### 4. fungsi keanggotan selisih nilai persemester"
   ]
  },
  {
   "cell_type": "code",
   "execution_count": 127,
   "id": "85b4dcf3-1b50-4286-9004-676781da31b7",
   "metadata": {},
   "outputs": [
    {
     "data": {
      "text/plain": [
       "pandas.core.series.Series"
      ]
     },
     "execution_count": 127,
     "metadata": {},
     "output_type": "execute_result"
    }
   ],
   "source": [
    "type(sel_nil)"
   ]
  },
  {
   "cell_type": "code",
   "execution_count": 82,
   "id": "e92a3c6d",
   "metadata": {},
   "outputs": [
    {
     "name": "stdout",
     "output_type": "stream",
     "text": [
      "selisih nilai persemester :  (array([0.53125   , 0.60416667, 0.60416667, 0.38541667, 0.38541667,\n",
      "       0.60416667, 0.60416667, 0.55208333, 0.55208333, 0.51041667,\n",
      "       0.51041667, 0.52083333, 0.52083333, 0.60416667, 0.60416667,\n",
      "       0.66666667, 0.66666667, 0.66666667, 0.60416667, 0.60416667,\n",
      "       0.60416667, 0.60416667, 0.65625   , 0.51041667, 0.51041667,\n",
      "       0.55208333, 0.55208333, 0.625     , 0.47916667, 0.47916667,\n",
      "       0.61458333, 0.61458333, 0.61458333, 0.65625   , 0.65625   ,\n",
      "       0.39583333, 0.5625    , 0.5625    , 0.625     , 0.60416667,\n",
      "       0.55208333, 0.55208333, 0.47916667, 0.70833333, 0.59375   ,\n",
      "       0.59375   , 0.78125   , 0.64583333, 0.72916667, 0.70833333,\n",
      "       0.70833333, 0.64583333, 0.63541667, 0.63541667, 0.72916667,\n",
      "       0.64583333, 0.64583333, 0.65625   , 0.71875   , 0.73958333,\n",
      "       1.        , 1.        , 1.        , 1.        , 1.        ,\n",
      "       1.        , 1.        , 1.        , 1.        , 1.        ,\n",
      "       1.        , 1.        , 1.        , 1.        , 1.        ,\n",
      "       1.        , 1.        ]), array([0., 0., 0., 0., 0., 0., 0., 0., 0., 0., 0., 0., 0., 0., 0., 0., 0.,\n",
      "       0., 0., 0., 0., 0., 0., 0., 0., 0., 0., 0., 0., 0., 0., 0., 0., 0.,\n",
      "       0., 0., 0., 0., 0., 0., 0., 0., 0., 0., 0., 0., 0., 0., 0., 0., 0.,\n",
      "       0., 0., 0., 0., 0., 0., 0., 0., 0., 0., 0., 0., 0., 0., 0., 0., 0.,\n",
      "       0., 0., 0., 0., 0., 0., 0., 0., 0.]))\n"
     ]
    }
   ],
   "source": [
    "sel_nil = df[\"SELISIH_SEM\"]\n",
    "nilai_sel = FungKeanggotaan2(xsel, lo_sel, hi_sel, sel_nil)\n",
    "print(\"selisih nilai persemester : \", nilai_sel)"
   ]
  },
  {
   "cell_type": "markdown",
   "id": "c28e3d04",
   "metadata": {
    "tags": []
   },
   "source": [
    "## Hasil Keanggotaan"
   ]
  },
  {
   "cell_type": "code",
   "execution_count": 113,
   "id": "209327f9",
   "metadata": {},
   "outputs": [
    {
     "ename": "ValueError",
     "evalue": "The truth value of an array with more than one element is ambiguous. Use a.any() or a.all()",
     "output_type": "error",
     "traceback": [
      "\u001b[1;31m---------------------------------------------------------------------------\u001b[0m",
      "\u001b[1;31mValueError\u001b[0m                                Traceback (most recent call last)",
      "Input \u001b[1;32mIn [113]\u001b[0m, in \u001b[0;36m<cell line: 2>\u001b[1;34m()\u001b[0m\n\u001b[0;32m      1\u001b[0m \u001b[38;5;66;03m# nilai keseluruhan mata pelajran\u001b[39;00m\n\u001b[1;32m----> 2\u001b[0m hasil_nilai_total   \u001b[38;5;241m=\u001b[39m \u001b[43mStatus\u001b[49m\u001b[43m(\u001b[49m\u001b[43mnilai_total\u001b[49m\u001b[43m)\u001b[49m\n",
      "Input \u001b[1;32mIn [24]\u001b[0m, in \u001b[0;36mStatus\u001b[1;34m(keanggotaan)\u001b[0m\n\u001b[0;32m      1\u001b[0m \u001b[38;5;28;01mdef\u001b[39;00m \u001b[38;5;21mStatus\u001b[39m(keanggotaan):\n\u001b[0;32m      2\u001b[0m     status \u001b[38;5;241m=\u001b[39m \u001b[38;5;124m\"\u001b[39m\u001b[38;5;124m\"\u001b[39m\n\u001b[1;32m----> 3\u001b[0m     \u001b[38;5;28;01mif\u001b[39;00m \u001b[43mkeanggotaan\u001b[49m\u001b[43m[\u001b[49m\u001b[38;5;241;43m0\u001b[39;49m\u001b[43m]\u001b[49m\u001b[43m \u001b[49m\u001b[38;5;241;43m>\u001b[39;49m\u001b[43m \u001b[49m\u001b[43mkeanggotaan\u001b[49m\u001b[43m[\u001b[49m\u001b[38;5;241;43m1\u001b[39;49m\u001b[43m]\u001b[49m \u001b[38;5;129;01mand\u001b[39;00m keanggotaan[\u001b[38;5;241m0\u001b[39m] \u001b[38;5;241m>\u001b[39m keanggotaan[\u001b[38;5;241m2\u001b[39m]:\n\u001b[0;32m      4\u001b[0m         status \u001b[38;5;241m=\u001b[39m \u001b[38;5;124m\"\u001b[39m\u001b[38;5;124mcukup\u001b[39m\u001b[38;5;124m\"\u001b[39m\n\u001b[0;32m      5\u001b[0m     \u001b[38;5;28;01melif\u001b[39;00m keanggotaan[\u001b[38;5;241m1\u001b[39m] \u001b[38;5;241m>\u001b[39m keanggotaan[\u001b[38;5;241m0\u001b[39m] \u001b[38;5;129;01mand\u001b[39;00m keanggotaan[\u001b[38;5;241m1\u001b[39m] \u001b[38;5;241m>\u001b[39m keanggotaan[\u001b[38;5;241m2\u001b[39m]:\n",
      "\u001b[1;31mValueError\u001b[0m: The truth value of an array with more than one element is ambiguous. Use a.any() or a.all()"
     ]
    }
   ],
   "source": [
    "# nilai keseluruhan mata pelajran\n",
    "hasil_nilai_total   = Status(nilai_total)\n",
    "# hasil_nilai_rank    = Status3(rank_nilai)\n",
    "# hasil_nilai_mean    = Status2(mean_nilai)\n",
    "# hasil_nilai_selisih = Status2(nilai_sel)\n",
    "\n",
    "# print(\"ranking nilai siswa        :\", hasil_nilai_rank)\n",
    "# print(\"nilai total siswa          :\", hasil_nilai_total)\n",
    "# print(\"rata-rata nilai nilai      :\", hasil_nilai_mean)\n",
    "# print(\"selisih nilai persemester  :\", hasil_nilai_selisih)"
   ]
  },
  {
   "cell_type": "code",
   "execution_count": 105,
   "id": "d3ec43b0-8730-491e-b077-18b556e66813",
   "metadata": {},
   "outputs": [
    {
     "data": {
      "text/plain": [
       "list"
      ]
     },
     "execution_count": 105,
     "metadata": {},
     "output_type": "execute_result"
    }
   ],
   "source": [
    "dataku= list(nilai_total)\n",
    "dataku\n",
    "type(dataku)"
   ]
  },
  {
   "cell_type": "markdown",
   "id": "cf46dab1",
   "metadata": {},
   "source": [
    "## Fuzzy Rule Base"
   ]
  },
  {
   "cell_type": "markdown",
   "id": "ee078b9e",
   "metadata": {},
   "source": [
    "1. nilai total (cukup, baik, sangat baik)\n",
    "2. ranking nilai (cukup, baik, sangat baik)\n",
    "3. rata-rata (cukup, baik)\n",
    "4. selisih nilai (baik, cukup)"
   ]
  },
  {
   "cell_type": "code",
   "execution_count": 25,
   "id": "a0d43574",
   "metadata": {},
   "outputs": [],
   "source": [
    "def rulebase(total, ranking, mean, selisih):\n",
    "    \n",
    "    siswa = \"\"\n",
    "    \n",
    "    # bagian 1\n",
    "    if total == 'cukup' and ranking == 'cukup' and mean == 'cukup' and selisih == 'cukup':\n",
    "        siswa = 'siswa di tolak'\n",
    "    elif total == 'cukup' and ranking == 'cukup' and mean == 'cukup' and selisih == 'baik':\n",
    "        siswa = 'siswa di tolak'\n",
    "    elif total == 'cukup' and ranking == 'cukup' and mean == 'baik' and selisih == 'cukup':\n",
    "        siswa = 'siswa di tolak'\n",
    "    elif total == 'cukup' and ranking == 'cukup' and mean == 'baik' and selisih == 'baik':\n",
    "        siswa = 'siswa di pertimbangkan'  \n",
    "        \n",
    "    elif total == 'cukup' and ranking == 'baik' and mean == 'cukup' and selisih == 'cukup':\n",
    "        siswa = 'siswa di tolak'\n",
    "    elif total == 'cukup' and ranking == 'cukup' and mean == 'cukup' and selisih == 'baik':\n",
    "        siswa = 'siswa di tolak'\n",
    "    elif total == 'cukup' and ranking == 'baik' and mean == 'baik' and selisih == 'cukup':\n",
    "        siswa = 'siswa di pertimbangkan'\n",
    "    elif total == 'cukup' and ranking == 'baik' and mean == 'baik' and selisih == 'baik':\n",
    "        siswa = 'siswa di pertimbangkan'\n",
    "        \n",
    "    elif total == 'cukup' and ranking == 'sangat baik' and mean == 'cukup' and selisih == 'cukup':\n",
    "        siswa = 'siswa di tolak'\n",
    "    elif total == 'cukup' and ranking == 'sangat baik' and mean == 'cukup' and selisih == 'baik':\n",
    "        siswa = 'siswa di pertimbangkan'\n",
    "    elif total == 'cukup' and ranking == 'sangat baik' and mean == 'baik' and selisih == 'cukup':\n",
    "        siswa = 'siswa di tolak'   \n",
    "    elif total == 'cukup' and ranking == 'sangat baik' and mean == 'baik' and selisih == 'baik':\n",
    "        siswa = 'siswa di terima'\n",
    "            \n",
    "    # bagian 2\n",
    "    if total == 'baik' and ranking == 'cukup' and mean == 'cukup' and selisih == 'cukup':\n",
    "        siswa = 'siswa di tolak'\n",
    "    elif total == 'baik' and ranking == 'cukup' and mean == 'cukup' and selisih == 'baik':\n",
    "        siswa = 'siswa di pertimbangkan'\n",
    "    elif total == 'baik' and ranking == 'cukup' and mean == 'baik' and selisih == 'cukup':\n",
    "        siswa = 'siswa di pertimbangkan'\n",
    "    elif total == 'baik' and ranking == 'cukup' and mean == 'baik' and selisih == 'baik':\n",
    "        siswa = 'siswa di terima'  \n",
    "        \n",
    "    elif total == 'baik' and ranking == 'baik' and mean == 'cukup' and selisih == 'cukup':\n",
    "        siswa = 'siswa di pertimbangkan'\n",
    "    elif total == 'baik' and ranking == 'cukup' and mean == 'cukup' and selisih == 'baik':\n",
    "        siswa = 'siswa di pertimbangkan'\n",
    "    elif total == 'baik' and ranking == 'baik' and mean == 'baik' and selisih == 'cukup':\n",
    "        siswa = 'siswa di terima'\n",
    "    elif total == 'baik' and ranking == 'baik' and mean == 'baik' and selisih == 'baik':\n",
    "        siswa = 'siswa di terima'\n",
    "        \n",
    "    elif total == 'baik' and ranking == 'sangat baik' and mean == 'cukup' and selisih == 'cukup':\n",
    "        siswa = 'siswa di pertimbangkan'\n",
    "    elif total == 'baik' and ranking == 'sangat baik' and mean == 'cukup' and selisih == 'baik':\n",
    "        siswa = 'siswa di terima'\n",
    "    elif total == 'baik' and ranking == 'sangat baik' and mean == 'baik' and selisih == 'cukup':\n",
    "        siswa = 'siswa di tolak'   \n",
    "    elif total == 'baik' and ranking == 'sangat baik' and mean == 'baik' and selisih == 'baik':\n",
    "        siswa = 'siswa di tolak'\n",
    "          \n",
    "  \n",
    "    # bagian 3\n",
    "    elif total == 'sangat baik' and ranking == 'cukup' and mean == 'cukup' and selisih == 'cukup':\n",
    "        siswa = 'siswa di tolak'\n",
    "    elif total == 'sangat baik' and ranking == 'cukup' and mean == 'cukup' and selisih == 'baik':\n",
    "        siswa = 'siswa di tolak'\n",
    "    elif total == 'sangat baik' and ranking == 'cukup' and mean == 'baik' and selisih == 'cukup':\n",
    "        siswa = 'siswa di tolak'\n",
    "    elif total == 'sangat baik' and ranking == 'cukup' and mean == 'baik' and selisih == 'baik':\n",
    "        siswa = 'siswa di pertimbangkan'  \n",
    "        \n",
    "    elif total == 'sangat baik' and ranking == 'baik' and mean == 'cukup' and selisih == 'cukup':\n",
    "        siswa = 'siswa di pertimbangkan'\n",
    "    elif total == 'sangat baik' and ranking == 'cukup' and mean == 'cukup' and selisih == 'baik':\n",
    "        siswa = 'siswa di pertimbangkan'\n",
    "    elif total == 'sangat baik' and ranking == 'baik' and mean == 'baik' and selisih == 'cukup':\n",
    "        siswa = 'siswa di terima'\n",
    "    elif total == 'sangat baik' and ranking == 'baik' and mean == 'baik' and selisih == 'baik':\n",
    "        siswa = 'siswa di terima'\n",
    "        \n",
    "    elif total == 'sangat baik' and ranking == 'sangat baik' and mean == 'cukup' and selisih == 'cukup':\n",
    "        siswa = 'siswa di terima'\n",
    "    elif total == 'sangat baik' and ranking == 'sangat baik' and mean == 'cukup' and selisih == 'baik':\n",
    "        siswa = 'siswa di pertimbangkan'\n",
    "    elif total == 'sangat baik' and ranking == 'sangat baik' and mean == 'baik' and selisih == 'cukup':\n",
    "        siswa = 'siswa di terima'   \n",
    "    elif total == 'sangat baik' and ranking == 'sangat baik' and mean == 'baik' and selisih == 'baik':\n",
    "        siswa = 'siswa di terima'\n",
    "         \n",
    "            \n",
    "    return siswa\n",
    "  "
   ]
  },
  {
   "cell_type": "markdown",
   "id": "68e53780",
   "metadata": {},
   "source": [
    "# Hasil Akhir "
   ]
  },
  {
   "cell_type": "code",
   "execution_count": 26,
   "id": "8630fce1",
   "metadata": {},
   "outputs": [
    {
     "data": {
      "text/plain": [
       "'siswa di tolak'"
      ]
     },
     "execution_count": 26,
     "metadata": {},
     "output_type": "execute_result"
    }
   ],
   "source": [
    "rulebase(hasil_nilai_total, hasil_nilai_rank, hasil_nilai_mean, hasil_nilai_selisih)"
   ]
  },
  {
   "cell_type": "code",
   "execution_count": 2,
   "id": "d18a4f29",
   "metadata": {},
   "outputs": [
    {
     "name": "stdout",
     "output_type": "stream",
     "text": [
      "alfianri manihuruk\n"
     ]
    }
   ],
   "source": [
    "print(\"alfianri manihuruk\")"
   ]
  },
  {
   "cell_type": "code",
   "execution_count": null,
   "id": "f687efae-1be7-438f-b781-b396c4a23a37",
   "metadata": {},
   "outputs": [],
   "source": []
  }
 ],
 "metadata": {
  "kernelspec": {
   "display_name": "Python 3 (ipykernel)",
   "language": "python",
   "name": "python3"
  },
  "language_info": {
   "codemirror_mode": {
    "name": "ipython",
    "version": 3
   },
   "file_extension": ".py",
   "mimetype": "text/x-python",
   "name": "python",
   "nbconvert_exporter": "python",
   "pygments_lexer": "ipython3",
   "version": "3.9.12"
  }
 },
 "nbformat": 4,
 "nbformat_minor": 5
}
